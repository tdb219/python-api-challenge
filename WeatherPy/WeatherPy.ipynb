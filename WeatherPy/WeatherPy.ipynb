{
 "cells": [
  {
   "cell_type": "markdown",
   "metadata": {},
   "source": [
    "# WeatherPy\n",
    "----\n",
    "\n",
    "#### Note\n",
    "* Instructions have been included for each segment. You do not have to follow them exactly, but they are included to help you think through the steps."
   ]
  },
  {
   "cell_type": "code",
   "execution_count": 16,
   "metadata": {
    "scrolled": true
   },
   "outputs": [],
   "source": [
    "# Dependencies and Setup\n",
    "import matplotlib.pyplot as plt\n",
    "import pandas as pd\n",
    "import numpy as np\n",
    "import requests\n",
    "import time\n",
    "from scipy.stats import linregress\n",
    "\n",
    "# Import API key\n",
    "from config import weather_api_key\n",
    "\n",
    "# Incorporated citipy to determine city based on latitude and longitude\n",
    "from citipy import citipy\n",
    "\n",
    "# Output File (CSV)\n",
    "output_data_file = \"../output_data/cities.csv\"\n",
    "\n",
    "# Range of latitudes and longitudes\n",
    "lat_range = (-90, 90)\n",
    "lng_range = (-180, 180)"
   ]
  },
  {
   "cell_type": "markdown",
   "metadata": {},
   "source": [
    "## Generate Cities List"
   ]
  },
  {
   "cell_type": "code",
   "execution_count": 2,
   "metadata": {},
   "outputs": [
    {
     "data": {
      "text/plain": [
       "634"
      ]
     },
     "execution_count": 2,
     "metadata": {},
     "output_type": "execute_result"
    }
   ],
   "source": [
    "# List for holding lat_lngs and cities\n",
    "lat_lngs = []\n",
    "cities = []\n",
    "\n",
    "# Create a set of random lat and lng combinations\n",
    "lats = np.random.uniform(lat_range[0], lat_range[1], size=1500)\n",
    "lngs = np.random.uniform(lng_range[0], lng_range[1], size=1500)\n",
    "lat_lngs = zip(lats, lngs)\n",
    "\n",
    "# Identify nearest city for each lat, lng combination\n",
    "for lat_lng in lat_lngs:\n",
    "    city = citipy.nearest_city(lat_lng[0], lat_lng[1]).city_name\n",
    "    \n",
    "    # If the city is unique, then add it to a our cities list\n",
    "    if city not in cities:\n",
    "        cities.append(city)\n",
    "\n",
    "# Print the city count to confirm sufficient count\n",
    "len(cities)"
   ]
  },
  {
   "cell_type": "code",
   "execution_count": null,
   "metadata": {
    "scrolled": true
   },
   "outputs": [],
   "source": [
    "#print(cities)"
   ]
  },
  {
   "cell_type": "markdown",
   "metadata": {},
   "source": [
    "### Perform API Calls\n",
    "* Perform a weather check on each city using a series of successive API calls.\n",
    "* Include a print log of each city as it'sbeing processed (with the city number and city name).\n"
   ]
  },
  {
   "cell_type": "code",
   "execution_count": 4,
   "metadata": {},
   "outputs": [
    {
     "data": {
      "text/plain": [
       "{'cod': '400', 'message': 'Nothing to geocode'}"
      ]
     },
     "execution_count": 4,
     "metadata": {},
     "output_type": "execute_result"
    }
   ],
   "source": [
    "# build out the query_url\n",
    "url = \"http://api.openweathermap.org/data/2.5/weather?\"\n",
    "units = \"imperial\"\n",
    "query_url = f\"{url}appid={weather_api_key}&units={units}&q=\"\n",
    "# response = requests.get(query_url + city).json()\n",
    "# response"
   ]
  },
  {
   "cell_type": "code",
   "execution_count": 9,
   "metadata": {},
   "outputs": [
    {
     "name": "stdout",
     "output_type": "stream",
     "text": [
      "Processing Record 1 of Set 1 | bredasdorp\n",
      "Processing Record 2 of Set 1 | port lincoln\n",
      "City not found. Skipping...\n",
      "Processing Record 3 of Set 1 | mataura\n",
      "Processing Record 4 of Set 1 | akcakoca\n",
      "Processing Record 5 of Set 1 | ponta do sol\n",
      "Processing Record 6 of Set 1 | avarua\n",
      "Processing Record 7 of Set 1 | narsaq\n",
      "Processing Record 8 of Set 1 | port elizabeth\n",
      "Processing Record 9 of Set 1 | atuona\n",
      "Processing Record 10 of Set 1 | upernavik\n",
      "Processing Record 11 of Set 1 | kapaa\n",
      "Processing Record 12 of Set 1 | pisco\n",
      "Processing Record 13 of Set 1 | busselton\n",
      "Processing Record 14 of Set 1 | albany\n",
      "Processing Record 15 of Set 1 | rikitea\n",
      "Processing Record 16 of Set 1 | cockburn town\n",
      "Processing Record 17 of Set 1 | ixtapa\n",
      "Processing Record 18 of Set 1 | hobart\n",
      "Processing Record 19 of Set 1 | mar del plata\n",
      "Processing Record 20 of Set 1 | ushuaia\n",
      "Processing Record 21 of Set 1 | borogontsy\n",
      "Processing Record 22 of Set 1 | tessalit\n",
      "Processing Record 23 of Set 1 | sibolga\n",
      "Processing Record 24 of Set 1 | mount isa\n",
      "Processing Record 25 of Set 1 | cherskiy\n",
      "Processing Record 26 of Set 1 | chuy\n",
      "Processing Record 27 of Set 1 | punta arenas\n",
      "Processing Record 28 of Set 1 | santa maria\n",
      "Processing Record 29 of Set 1 | lac du bonnet\n",
      "Processing Record 30 of Set 1 | fort beaufort\n",
      "Processing Record 31 of Set 1 | rocha\n",
      "Processing Record 32 of Set 1 | hilo\n",
      "Processing Record 33 of Set 1 | torbay\n",
      "Processing Record 34 of Set 1 | sidi ali\n",
      "Processing Record 35 of Set 1 | hervey bay\n",
      "City not found. Skipping...\n",
      "Processing Record 36 of Set 1 | gopalpur\n",
      "Processing Record 37 of Set 1 | tuktoyaktuk\n",
      "Processing Record 38 of Set 1 | sobolevo\n",
      "Processing Record 39 of Set 1 | pringsewu\n",
      "Processing Record 40 of Set 1 | puerto ayora\n",
      "City not found. Skipping...\n",
      "Processing Record 41 of Set 1 | nanortalik\n",
      "Processing Record 42 of Set 1 | geraldton\n",
      "Processing Record 43 of Set 1 | jamestown\n",
      "Processing Record 44 of Set 1 | sechura\n",
      "Processing Record 45 of Set 1 | arrecife\n",
      "Processing Record 46 of Set 1 | codrington\n",
      "Processing Record 47 of Set 1 | mandiana\n",
      "Processing Record 48 of Set 1 | saint-pierre\n",
      "Processing Record 49 of Set 1 | mys shmidta\n",
      "Processing Record 1 of Set 2 | norman wells\n",
      "Processing Record 2 of Set 2 | bengkulu\n",
      "Processing Record 3 of Set 2 | ancud\n",
      "Processing Record 4 of Set 2 | liaoyang\n",
      "Processing Record 5 of Set 2 | sheltozero\n",
      "Processing Record 6 of Set 2 | altagracia de orituco\n",
      "City not found. Skipping...\n",
      "Processing Record 7 of Set 2 | onda\n",
      "Processing Record 8 of Set 2 | novorzhev\n",
      "Processing Record 9 of Set 2 | roald\n",
      "Processing Record 10 of Set 2 | qaanaaq\n",
      "Processing Record 11 of Set 2 | isangel\n",
      "Processing Record 12 of Set 2 | nikolskoye\n",
      "Processing Record 13 of Set 2 | longyearbyen\n",
      "Processing Record 14 of Set 2 | cidreira\n",
      "Processing Record 15 of Set 2 | sharan\n",
      "Processing Record 16 of Set 2 | mount gambier\n",
      "City not found. Skipping...\n",
      "Processing Record 17 of Set 2 | saskylakh\n",
      "Processing Record 18 of Set 2 | canon city\n",
      "Processing Record 19 of Set 2 | banjar\n",
      "Processing Record 20 of Set 2 | verkhnevilyuysk\n",
      "Processing Record 21 of Set 2 | iqaluit\n",
      "Processing Record 22 of Set 2 | tianpeng\n",
      "Processing Record 23 of Set 2 | dingle\n",
      "City not found. Skipping...\n",
      "Processing Record 24 of Set 2 | souillac\n",
      "City not found. Skipping...\n",
      "Processing Record 25 of Set 2 | balassagyarmat\n",
      "Processing Record 26 of Set 2 | vaini\n",
      "City not found. Skipping...\n",
      "Processing Record 27 of Set 2 | ponta delgada\n",
      "Processing Record 28 of Set 2 | nouadhibou\n",
      "Processing Record 29 of Set 2 | meulaboh\n",
      "Processing Record 30 of Set 2 | ocos\n",
      "Processing Record 31 of Set 2 | dikson\n",
      "Processing Record 32 of Set 2 | ribeira grande\n",
      "Processing Record 33 of Set 2 | zlobin\n",
      "Processing Record 34 of Set 2 | safita\n",
      "Processing Record 35 of Set 2 | aranos\n",
      "Processing Record 36 of Set 2 | kondinskoye\n",
      "Processing Record 37 of Set 2 | mongoumba\n",
      "Processing Record 38 of Set 2 | dunda\n",
      "Processing Record 39 of Set 2 | barrow\n",
      "Processing Record 40 of Set 2 | atar\n",
      "Processing Record 41 of Set 2 | arraial do cabo\n",
      "Processing Record 42 of Set 2 | lavrentiya\n",
      "Processing Record 43 of Set 2 | madang\n",
      "Processing Record 44 of Set 2 | kaitangata\n",
      "City not found. Skipping...\n",
      "Processing Record 45 of Set 2 | ahipara\n",
      "Processing Record 46 of Set 2 | nhulunbuy\n",
      "Processing Record 47 of Set 2 | nuuk\n",
      "Processing Record 48 of Set 2 | salinas\n",
      "Processing Record 49 of Set 2 | buraydah\n",
      "Processing Record 1 of Set 3 | shimoda\n",
      "City not found. Skipping...\n",
      "Processing Record 2 of Set 3 | tiksi\n",
      "Processing Record 3 of Set 3 | kyren\n",
      "Processing Record 4 of Set 3 | ornskoldsvik\n",
      "Processing Record 5 of Set 3 | bonavista\n",
      "Processing Record 6 of Set 3 | chicama\n",
      "City not found. Skipping...\n",
      "Processing Record 7 of Set 3 | santiago\n",
      "Processing Record 8 of Set 3 | pangnirtung\n",
      "Processing Record 9 of Set 3 | mahebourg\n",
      "Processing Record 10 of Set 3 | aigle\n",
      "Processing Record 11 of Set 3 | new norfolk\n",
      "Processing Record 12 of Set 3 | ormara\n",
      "Processing Record 13 of Set 3 | east london\n",
      "Processing Record 14 of Set 3 | hermanus\n",
      "Processing Record 15 of Set 3 | alofi\n",
      "Processing Record 16 of Set 3 | severo-kurilsk\n",
      "Processing Record 17 of Set 3 | junin\n",
      "Processing Record 18 of Set 3 | kodiak\n",
      "Processing Record 19 of Set 3 | berlevag\n",
      "Processing Record 20 of Set 3 | huejucar\n",
      "City not found. Skipping...\n",
      "Processing Record 21 of Set 3 | hithadhoo\n",
      "Processing Record 22 of Set 3 | anloga\n",
      "City not found. Skipping...\n",
      "Processing Record 23 of Set 3 | cape town\n",
      "Processing Record 24 of Set 3 | jonesboro\n",
      "Processing Record 25 of Set 3 | yumen\n",
      "Processing Record 26 of Set 3 | port augusta\n",
      "Processing Record 27 of Set 3 | mantua\n",
      "Processing Record 28 of Set 3 | kalmunai\n",
      "Processing Record 29 of Set 3 | valjevo\n",
      "City not found. Skipping...\n",
      "Processing Record 30 of Set 3 | linhares\n",
      "Processing Record 31 of Set 3 | upington\n",
      "Processing Record 32 of Set 3 | port alfred\n",
      "City not found. Skipping...\n",
      "Processing Record 33 of Set 3 | thompson\n",
      "Processing Record 34 of Set 3 | leningradskiy\n",
      "Processing Record 35 of Set 3 | bangassou\n",
      "Processing Record 36 of Set 3 | saldanha\n",
      "Processing Record 37 of Set 3 | havelock\n",
      "City not found. Skipping...\n",
      "Processing Record 38 of Set 3 | samarai\n",
      "City not found. Skipping...\n",
      "Processing Record 39 of Set 3 | dicabisagan\n",
      "Processing Record 40 of Set 3 | soyo\n",
      "Processing Record 41 of Set 3 | santiago del estero\n",
      "Processing Record 42 of Set 3 | olga\n",
      "Processing Record 43 of Set 3 | port blair\n",
      "Processing Record 44 of Set 3 | vostok\n",
      "Processing Record 45 of Set 3 | kodino\n",
      "Processing Record 46 of Set 3 | ust-kan\n",
      "Processing Record 47 of Set 3 | talnakh\n",
      "Processing Record 48 of Set 3 | yellowknife\n",
      "Processing Record 49 of Set 3 | noci\n",
      "City not found. Skipping...\n",
      "Processing Record 1 of Set 4 | hasaki\n",
      "Processing Record 2 of Set 4 | waipawa\n",
      "Processing Record 3 of Set 4 | piacabucu\n",
      "Processing Record 4 of Set 4 | kruisfontein\n",
      "Processing Record 5 of Set 4 | kindu\n",
      "Processing Record 6 of Set 4 | yabelo\n",
      "City not found. Skipping...\n",
      "Processing Record 7 of Set 4 | bakel\n",
      "Processing Record 8 of Set 4 | ceres\n",
      "Processing Record 9 of Set 4 | khatanga\n",
      "Processing Record 10 of Set 4 | itarema\n",
      "Processing Record 11 of Set 4 | kirkwall\n",
      "City not found. Skipping...\n",
      "Processing Record 12 of Set 4 | kargil\n",
      "Processing Record 13 of Set 4 | nishihara\n",
      "Processing Record 14 of Set 4 | kaeo\n",
      "Processing Record 15 of Set 4 | ghanzi\n",
      "Processing Record 16 of Set 4 | qaqortoq\n",
      "City not found. Skipping...\n",
      "Processing Record 17 of Set 4 | imeni poliny osipenko\n",
      "Processing Record 18 of Set 4 | ereymentau\n",
      "Processing Record 19 of Set 4 | bathsheba\n",
      "Processing Record 20 of Set 4 | butaritari\n",
      "Processing Record 21 of Set 4 | asmara\n",
      "Processing Record 22 of Set 4 | caravelas\n",
      "Processing Record 23 of Set 4 | lebu\n",
      "Processing Record 24 of Set 4 | biak\n",
      "Processing Record 25 of Set 4 | pirgos\n",
      "Processing Record 26 of Set 4 | ngaoundere\n",
      "Processing Record 27 of Set 4 | kulhudhuffushi\n",
      "Processing Record 28 of Set 4 | shalinskoye\n",
      "Processing Record 29 of Set 4 | port hardy\n",
      "Processing Record 30 of Set 4 | vao\n",
      "Processing Record 31 of Set 4 | hovd\n",
      "Processing Record 32 of Set 4 | carnarvon\n",
      "Processing Record 33 of Set 4 | richards bay\n",
      "City not found. Skipping...\n",
      "Processing Record 34 of Set 4 | sola\n",
      "Processing Record 35 of Set 4 | provideniya\n",
      "Processing Record 36 of Set 4 | saint-francois\n",
      "Processing Record 37 of Set 4 | villefranche-de-rouergue\n"
     ]
    },
    {
     "name": "stdout",
     "output_type": "stream",
     "text": [
      "Processing Record 38 of Set 4 | dudinka\n",
      "Processing Record 39 of Set 4 | chekhov\n",
      "Processing Record 40 of Set 4 | broome\n",
      "Processing Record 41 of Set 4 | birobidzhan\n",
      "City not found. Skipping...\n",
      "Processing Record 42 of Set 4 | pevek\n",
      "Processing Record 43 of Set 4 | acajutla\n",
      "Processing Record 44 of Set 4 | sweetwater\n",
      "Processing Record 45 of Set 4 | bluff\n",
      "Processing Record 46 of Set 4 | mount pleasant\n",
      "Processing Record 47 of Set 4 | port hedland\n",
      "City not found. Skipping...\n",
      "Processing Record 48 of Set 4 | grand gaube\n",
      "Processing Record 49 of Set 4 | assiniboia\n",
      "Processing Record 1 of Set 5 | pueblo\n",
      "City not found. Skipping...\n",
      "Processing Record 2 of Set 5 | tasiilaq\n",
      "Processing Record 3 of Set 5 | faanui\n",
      "Processing Record 4 of Set 5 | beringovskiy\n",
      "Processing Record 5 of Set 5 | marica\n",
      "Processing Record 6 of Set 5 | georgetown\n",
      "Processing Record 7 of Set 5 | guane\n",
      "Processing Record 8 of Set 5 | rio gallegos\n",
      "Processing Record 9 of Set 5 | san cristobal\n",
      "Processing Record 10 of Set 5 | palmer\n",
      "Processing Record 11 of Set 5 | paraiso\n",
      "Processing Record 12 of Set 5 | mahajanga\n",
      "Processing Record 13 of Set 5 | plerin\n",
      "Processing Record 14 of Set 5 | nokaneng\n",
      "Processing Record 15 of Set 5 | norfolk\n",
      "Processing Record 16 of Set 5 | manokwari\n",
      "Processing Record 17 of Set 5 | san patricio\n",
      "City not found. Skipping...\n",
      "Processing Record 18 of Set 5 | santa eulalia del rio\n",
      "City not found. Skipping...\n",
      "Processing Record 19 of Set 5 | fayaoue\n",
      "Processing Record 20 of Set 5 | vila\n",
      "Processing Record 21 of Set 5 | khorixas\n",
      "Processing Record 22 of Set 5 | bakchar\n",
      "City not found. Skipping...\n",
      "Processing Record 23 of Set 5 | tilichiki\n",
      "Processing Record 24 of Set 5 | cabo san lucas\n",
      "Processing Record 25 of Set 5 | soe\n",
      "Processing Record 26 of Set 5 | sitka\n",
      "Processing Record 27 of Set 5 | vyshestebliyevskaya\n",
      "Processing Record 28 of Set 5 | amapa\n",
      "Processing Record 29 of Set 5 | price\n",
      "Processing Record 30 of Set 5 | damietta\n",
      "Processing Record 31 of Set 5 | airai\n",
      "Processing Record 32 of Set 5 | aras\n",
      "Processing Record 33 of Set 5 | poronaysk\n",
      "Processing Record 34 of Set 5 | tubbergen\n",
      "Processing Record 35 of Set 5 | karasjok\n",
      "City not found. Skipping...\n",
      "Processing Record 36 of Set 5 | bandarbeyla\n",
      "Processing Record 37 of Set 5 | aleksandrov gay\n",
      "Processing Record 38 of Set 5 | elban\n",
      "Processing Record 39 of Set 5 | clyde river\n",
      "Processing Record 40 of Set 5 | katsuura\n",
      "Processing Record 41 of Set 5 | apatou\n",
      "Processing Record 42 of Set 5 | sao filipe\n",
      "Processing Record 43 of Set 5 | sabla\n",
      "Processing Record 44 of Set 5 | batagay\n",
      "Processing Record 45 of Set 5 | acapulco\n",
      "Processing Record 46 of Set 5 | ilulissat\n",
      "Processing Record 47 of Set 5 | chokurdakh\n",
      "Processing Record 48 of Set 5 | prescott\n",
      "City not found. Skipping...\n",
      "Processing Record 49 of Set 5 | emba\n",
      "City not found. Skipping...\n",
      "City not found. Skipping...\n",
      "Processing Record 1 of Set 6 | santa rosalia\n",
      "Processing Record 2 of Set 6 | grand river south east\n",
      "Processing Record 3 of Set 6 | oxelosund\n",
      "Processing Record 4 of Set 6 | badou\n",
      "Processing Record 5 of Set 6 | klaksvik\n",
      "Processing Record 6 of Set 6 | vila velha\n",
      "Processing Record 7 of Set 6 | torquay\n",
      "Processing Record 8 of Set 6 | gat\n",
      "Processing Record 9 of Set 6 | atakpame\n",
      "Processing Record 10 of Set 6 | antofagasta\n",
      "Processing Record 11 of Set 6 | tsiroanomandidy\n",
      "Processing Record 12 of Set 6 | winneba\n",
      "Processing Record 13 of Set 6 | kurdzhinovo\n",
      "Processing Record 14 of Set 6 | baiyin\n",
      "Processing Record 15 of Set 6 | taraz\n",
      "Processing Record 16 of Set 6 | san lazaro\n",
      "Processing Record 17 of Set 6 | roma\n",
      "Processing Record 18 of Set 6 | cayenne\n",
      "Processing Record 19 of Set 6 | lazaro cardenas\n",
      "City not found. Skipping...\n",
      "Processing Record 20 of Set 6 | tuatapere\n",
      "Processing Record 21 of Set 6 | doha\n",
      "Processing Record 22 of Set 6 | pedro carbo\n",
      "Processing Record 23 of Set 6 | hamakita\n",
      "Processing Record 24 of Set 6 | dongsheng\n",
      "Processing Record 25 of Set 6 | mildura\n",
      "Processing Record 26 of Set 6 | yazd\n",
      "Processing Record 27 of Set 6 | komsomolskiy\n",
      "Processing Record 28 of Set 6 | raudeberg\n",
      "City not found. Skipping...\n",
      "City not found. Skipping...\n",
      "Processing Record 29 of Set 6 | saint-philippe\n",
      "Processing Record 30 of Set 6 | esperance\n",
      "Processing Record 31 of Set 6 | padang\n",
      "Processing Record 32 of Set 6 | sembe\n",
      "Processing Record 33 of Set 6 | middlebury\n",
      "City not found. Skipping...\n",
      "Processing Record 34 of Set 6 | yuanping\n",
      "City not found. Skipping...\n",
      "Processing Record 35 of Set 6 | shiringushi\n",
      "Processing Record 36 of Set 6 | haines junction\n",
      "Processing Record 37 of Set 6 | colares\n",
      "Processing Record 38 of Set 6 | bilibino\n",
      "Processing Record 39 of Set 6 | abonnema\n",
      "Processing Record 40 of Set 6 | jiguani\n",
      "Processing Record 41 of Set 6 | lagoa\n",
      "Processing Record 42 of Set 6 | kavieng\n",
      "Processing Record 43 of Set 6 | honiara\n",
      "Processing Record 44 of Set 6 | sabang\n",
      "Processing Record 45 of Set 6 | kudahuvadhoo\n",
      "Processing Record 46 of Set 6 | flinders\n",
      "Processing Record 47 of Set 6 | belyy yar\n",
      "Processing Record 48 of Set 6 | moree\n",
      "City not found. Skipping...\n",
      "Processing Record 49 of Set 6 | madingou\n",
      "Processing Record 1 of Set 7 | yasinya\n",
      "Processing Record 2 of Set 7 | at-bashi\n",
      "Processing Record 3 of Set 7 | naze\n",
      "Processing Record 4 of Set 7 | srednekolymsk\n",
      "City not found. Skipping...\n",
      "Processing Record 5 of Set 7 | nosy varika\n",
      "Processing Record 6 of Set 7 | castro\n",
      "Processing Record 7 of Set 7 | mega\n",
      "Processing Record 8 of Set 7 | moron\n",
      "Processing Record 9 of Set 7 | rodgau\n",
      "Processing Record 10 of Set 7 | ribeira brava\n",
      "Processing Record 11 of Set 7 | morondava\n",
      "Processing Record 12 of Set 7 | asau\n",
      "Processing Record 13 of Set 7 | stornoway\n",
      "Processing Record 14 of Set 7 | bambous virieux\n",
      "Processing Record 15 of Set 7 | jackson\n",
      "Processing Record 16 of Set 7 | omboue\n",
      "Processing Record 17 of Set 7 | kihei\n",
      "Processing Record 18 of Set 7 | ahuimanu\n",
      "Processing Record 19 of Set 7 | ust-omchug\n",
      "Processing Record 20 of Set 7 | lubango\n",
      "Processing Record 21 of Set 7 | vardo\n",
      "Processing Record 22 of Set 7 | conde\n",
      "City not found. Skipping...\n",
      "Processing Record 23 of Set 7 | vitre\n",
      "Processing Record 24 of Set 7 | huarmey\n",
      "Processing Record 25 of Set 7 | montivilliers\n",
      "Processing Record 26 of Set 7 | lorengau\n",
      "Processing Record 27 of Set 7 | saint-augustin\n",
      "Processing Record 28 of Set 7 | klyuchi\n",
      "Processing Record 29 of Set 7 | loma bonita\n",
      "Processing Record 30 of Set 7 | fukue\n",
      "Processing Record 31 of Set 7 | grindavik\n",
      "Processing Record 32 of Set 7 | cheney\n",
      "Processing Record 33 of Set 7 | hofn\n",
      "City not found. Skipping...\n",
      "Processing Record 34 of Set 7 | shaki\n",
      "Processing Record 35 of Set 7 | itai\n",
      "Processing Record 36 of Set 7 | kiunga\n",
      "City not found. Skipping...\n",
      "Processing Record 37 of Set 7 | constitucion\n",
      "Processing Record 38 of Set 7 | altay\n",
      "Processing Record 39 of Set 7 | poum\n",
      "Processing Record 40 of Set 7 | asosa\n",
      "Processing Record 41 of Set 7 | kosa\n",
      "Processing Record 42 of Set 7 | cagayan de tawi-tawi\n",
      "Processing Record 43 of Set 7 | necochea\n",
      "City not found. Skipping...\n",
      "Processing Record 44 of Set 7 | trinidad\n",
      "Processing Record 45 of Set 7 | sioux lookout\n",
      "Processing Record 46 of Set 7 | yerbogachen\n",
      "City not found. Skipping...\n",
      "Processing Record 47 of Set 7 | north bend\n",
      "Processing Record 48 of Set 7 | oranjemund\n",
      "Processing Record 49 of Set 7 | sirajganj\n",
      "Processing Record 1 of Set 8 | lukow\n",
      "Processing Record 2 of Set 8 | panzhihua\n",
      "Processing Record 3 of Set 8 | ahtopol\n",
      "Processing Record 4 of Set 8 | churapcha\n",
      "Processing Record 5 of Set 8 | victoria\n",
      "City not found. Skipping...\n",
      "Processing Record 6 of Set 8 | umarkot\n",
      "Processing Record 7 of Set 8 | bubaque\n",
      "Processing Record 8 of Set 8 | tupik\n",
      "Processing Record 9 of Set 8 | copiapo\n",
      "Processing Record 10 of Set 8 | molochnoye\n",
      "Processing Record 11 of Set 8 | yeppoon\n",
      "Processing Record 12 of Set 8 | karpogory\n",
      "Processing Record 13 of Set 8 | moerai\n",
      "Processing Record 14 of Set 8 | soreang\n",
      "Processing Record 15 of Set 8 | zaykovo\n",
      "Processing Record 16 of Set 8 | kununurra\n",
      "Processing Record 17 of Set 8 | abha\n",
      "Processing Record 18 of Set 8 | fairbanks\n",
      "Processing Record 19 of Set 8 | mpophomeni\n",
      "Processing Record 20 of Set 8 | polovinnoye\n",
      "Processing Record 21 of Set 8 | atherton\n",
      "Processing Record 22 of Set 8 | rio esteban\n",
      "Processing Record 23 of Set 8 | yuxia\n",
      "City not found. Skipping...\n",
      "Processing Record 24 of Set 8 | belmonte\n",
      "Processing Record 25 of Set 8 | gamba\n",
      "Processing Record 26 of Set 8 | laguna\n",
      "City not found. Skipping...\n"
     ]
    },
    {
     "name": "stdout",
     "output_type": "stream",
     "text": [
      "Processing Record 27 of Set 8 | macapa\n",
      "Processing Record 28 of Set 8 | skegness\n",
      "Processing Record 29 of Set 8 | tadine\n",
      "Processing Record 30 of Set 8 | aitape\n",
      "Processing Record 31 of Set 8 | mandalgovi\n",
      "Processing Record 32 of Set 8 | nalut\n",
      "Processing Record 33 of Set 8 | gorin\n",
      "City not found. Skipping...\n",
      "Processing Record 34 of Set 8 | iskateley\n",
      "Processing Record 35 of Set 8 | ternate\n",
      "Processing Record 36 of Set 8 | yurginskoye\n",
      "City not found. Skipping...\n",
      "Processing Record 37 of Set 8 | metro\n",
      "Processing Record 38 of Set 8 | half moon bay\n",
      "Processing Record 39 of Set 8 | darhan\n",
      "Processing Record 40 of Set 8 | alice springs\n",
      "Processing Record 41 of Set 8 | olinda\n",
      "Processing Record 42 of Set 8 | lata\n",
      "Processing Record 43 of Set 8 | kasama\n",
      "Processing Record 44 of Set 8 | sao jose da tapera\n",
      "Processing Record 45 of Set 8 | saint-joseph\n",
      "Processing Record 46 of Set 8 | hamilton\n",
      "Processing Record 47 of Set 8 | thyboron\n",
      "Processing Record 48 of Set 8 | sistranda\n",
      "Processing Record 49 of Set 8 | san fernando\n",
      "City not found. Skipping...\n",
      "Processing Record 1 of Set 9 | kavaratti\n",
      "Processing Record 2 of Set 9 | deputatskiy\n",
      "Processing Record 3 of Set 9 | vestmannaeyjar\n",
      "Processing Record 4 of Set 9 | victoria point\n",
      "Processing Record 5 of Set 9 | kamsack\n",
      "Processing Record 6 of Set 9 | micheweni\n",
      "Processing Record 7 of Set 9 | puerto baquerizo moreno\n",
      "Processing Record 8 of Set 9 | ranong\n",
      "Processing Record 9 of Set 9 | sao felix do xingu\n",
      "Processing Record 10 of Set 9 | katakwi\n",
      "Processing Record 11 of Set 9 | syracuse\n",
      "City not found. Skipping...\n",
      "Processing Record 12 of Set 9 | tautira\n",
      "City not found. Skipping...\n",
      "Processing Record 13 of Set 9 | olafsvik\n",
      "Processing Record 14 of Set 9 | fort saint john\n",
      "Processing Record 15 of Set 9 | salalah\n",
      "Processing Record 16 of Set 9 | biu\n",
      "Processing Record 17 of Set 9 | yuci\n",
      "Processing Record 18 of Set 9 | bam\n",
      "Processing Record 19 of Set 9 | nikita\n",
      "Processing Record 20 of Set 9 | antsohihy\n",
      "Processing Record 21 of Set 9 | derzhavinsk\n",
      "City not found. Skipping...\n",
      "City not found. Skipping...\n",
      "Processing Record 22 of Set 9 | bayji\n",
      "Processing Record 23 of Set 9 | miri\n",
      "Processing Record 24 of Set 9 | troitskoye\n",
      "Processing Record 25 of Set 9 | gisborne\n",
      "Processing Record 26 of Set 9 | ayer itam\n",
      "Processing Record 27 of Set 9 | zlitan\n",
      "Processing Record 28 of Set 9 | urucara\n",
      "Processing Record 29 of Set 9 | catamarca\n",
      "Processing Record 30 of Set 9 | katunino\n",
      "Processing Record 31 of Set 9 | izumo\n",
      "City not found. Skipping...\n",
      "Processing Record 32 of Set 9 | simpang\n",
      "Processing Record 33 of Set 9 | tanout\n",
      "Processing Record 34 of Set 9 | merauke\n",
      "Processing Record 35 of Set 9 | kemijarvi\n",
      "Processing Record 36 of Set 9 | bud\n",
      "City not found. Skipping...\n",
      "Processing Record 37 of Set 9 | aykhal\n",
      "Processing Record 38 of Set 9 | salinopolis\n",
      "Processing Record 39 of Set 9 | miguel hidalgo\n",
      "Processing Record 40 of Set 9 | avera\n",
      "Processing Record 41 of Set 9 | prado\n",
      "Processing Record 42 of Set 9 | brigantine\n",
      "Processing Record 43 of Set 9 | komatipoort\n",
      "Processing Record 44 of Set 9 | palembang\n",
      "Processing Record 45 of Set 9 | kuito\n",
      "Processing Record 46 of Set 9 | ust-nera\n",
      "Processing Record 47 of Set 9 | chunskiy\n",
      "Processing Record 48 of Set 9 | makakilo city\n",
      "Processing Record 49 of Set 9 | severobaykalsk\n",
      "Processing Record 1 of Set 10 | chikmagalur\n",
      "Processing Record 2 of Set 10 | ulaanbaatar\n",
      "Processing Record 3 of Set 10 | huescar\n",
      "Processing Record 4 of Set 10 | lalmohan\n",
      "Processing Record 5 of Set 10 | buala\n",
      "Processing Record 6 of Set 10 | weiser\n",
      "Processing Record 7 of Set 10 | katangli\n",
      "Processing Record 8 of Set 10 | anadyr\n",
      "Processing Record 9 of Set 10 | pamanukan\n",
      "Processing Record 10 of Set 10 | clarksburg\n",
      "Processing Record 11 of Set 10 | illapel\n",
      "Processing Record 12 of Set 10 | bilma\n",
      "Processing Record 13 of Set 10 | monrovia\n",
      "Processing Record 14 of Set 10 | inhambane\n",
      "Processing Record 15 of Set 10 | wakema\n",
      "Processing Record 16 of Set 10 | sinnamary\n",
      "Processing Record 17 of Set 10 | huntsville\n",
      "Processing Record 18 of Set 10 | boca de parita\n",
      "Processing Record 19 of Set 10 | kloulklubed\n",
      "Processing Record 20 of Set 10 | bethel\n",
      "Processing Record 21 of Set 10 | husavik\n",
      "Processing Record 22 of Set 10 | nizhniy tsasuchey\n",
      "City not found. Skipping...\n",
      "Processing Record 23 of Set 10 | sampit\n",
      "Processing Record 24 of Set 10 | ambon\n",
      "Processing Record 25 of Set 10 | omaruru\n",
      "Processing Record 26 of Set 10 | yarim\n",
      "Processing Record 27 of Set 10 | ajdabiya\n",
      "Processing Record 28 of Set 10 | anshun\n",
      "Processing Record 29 of Set 10 | catuday\n",
      "Processing Record 30 of Set 10 | rajanpur\n",
      "City not found. Skipping...\n",
      "Processing Record 31 of Set 10 | pafos\n",
      "Processing Record 32 of Set 10 | kifri\n",
      "Processing Record 33 of Set 10 | high level\n",
      "Processing Record 34 of Set 10 | taiping\n",
      "Processing Record 35 of Set 10 | flin flon\n",
      "City not found. Skipping...\n",
      "Processing Record 36 of Set 10 | sarahan\n",
      "Processing Record 37 of Set 10 | westport\n",
      "Processing Record 38 of Set 10 | gornyak\n",
      "Processing Record 39 of Set 10 | phangnga\n",
      "Processing Record 40 of Set 10 | tawang\n",
      "Processing Record 41 of Set 10 | botwood\n",
      "Processing Record 42 of Set 10 | kilindoni\n",
      "Processing Record 43 of Set 10 | chake chake\n",
      "Processing Record 44 of Set 10 | lahij\n",
      "Processing Record 45 of Set 10 | juegang\n",
      "City not found. Skipping...\n",
      "Processing Record 46 of Set 10 | pombia\n",
      "Processing Record 47 of Set 10 | atyrau\n",
      "Processing Record 48 of Set 10 | vila franca do campo\n",
      "City not found. Skipping...\n",
      "Processing Record 49 of Set 10 | keelung\n",
      "Processing Record 1 of Set 11 | shebalino\n",
      "Processing Record 2 of Set 11 | christchurch\n",
      "Processing Record 3 of Set 11 | freeport\n",
      "Processing Record 4 of Set 11 | durban\n",
      "Processing Record 5 of Set 11 | portland\n",
      "Processing Record 6 of Set 11 | cascais\n",
      "Processing Record 7 of Set 11 | warrnambool\n",
      "Processing Record 8 of Set 11 | nyuksenitsa\n",
      "Processing Record 9 of Set 11 | port said\n",
      "Processing Record 10 of Set 11 | bloomfield\n",
      "Processing Record 11 of Set 11 | boende\n",
      "Processing Record 12 of Set 11 | antigonish\n",
      "Processing Record 13 of Set 11 | aksha\n",
      "Processing Record 14 of Set 11 | sosnovo-ozerskoye\n",
      "City not found. Skipping...\n",
      "Processing Record 15 of Set 11 | robertson\n",
      "Processing Record 16 of Set 11 | simao\n",
      "Processing Record 17 of Set 11 | grand-santi\n",
      "City not found. Skipping...\n",
      "Processing Record 18 of Set 11 | kikwit\n",
      "Processing Record 19 of Set 11 | lufilufi\n",
      "Processing Record 20 of Set 11 | tura\n",
      "Processing Record 21 of Set 11 | port hawkesbury\n",
      "Processing Record 22 of Set 11 | chagoda\n",
      "Processing Record 23 of Set 11 | wageningen\n",
      "Processing Record 24 of Set 11 | ayaviri\n",
      "Processing Record 25 of Set 11 | ambilobe\n",
      "Processing Record 26 of Set 11 | whitehorse\n",
      "Processing Record 27 of Set 11 | lompoc\n",
      "Processing Record 28 of Set 11 | kochubey\n",
      "Processing Record 29 of Set 11 | okhotsk\n",
      "Processing Record 30 of Set 11 | karamakhi\n",
      "Processing Record 31 of Set 11 | moba\n",
      "Processing Record 32 of Set 11 | bani walid\n",
      "Processing Record 33 of Set 11 | cabra\n",
      "Processing Record 34 of Set 11 | kieta\n",
      "Processing Record 35 of Set 11 | fortuna\n",
      "Processing Record 36 of Set 11 | balakhninskiy\n",
      "Processing Record 37 of Set 11 | omsukchan\n",
      "Processing Record 38 of Set 11 | beloha\n",
      "City not found. Skipping...\n",
      "Processing Record 39 of Set 11 | cairns\n",
      "Processing Record 40 of Set 11 | natal\n",
      "Processing Record 41 of Set 11 | sorong\n",
      "Processing Record 42 of Set 11 | grand centre\n",
      "Processing Record 43 of Set 11 | zlotow\n",
      "Processing Record 44 of Set 11 | nemuro\n",
      "Processing Record 45 of Set 11 | awjilah\n",
      "Processing Record 46 of Set 11 | mayumba\n",
      "Processing Record 47 of Set 11 | goure\n",
      "Processing Record 48 of Set 11 | buta\n",
      "Processing Record 49 of Set 11 | ostrovnoy\n",
      "Processing Record 1 of Set 12 | hun\n",
      "City not found. Skipping...\n",
      "Processing Record 2 of Set 12 | sergach\n",
      "Processing Record 3 of Set 12 | acarau\n",
      "Processing Record 4 of Set 12 | poltavka\n",
      "Processing Record 5 of Set 12 | nuevitas\n",
      "Processing Record 6 of Set 12 | beeville\n",
      "City not found. Skipping...\n",
      "Processing Record 7 of Set 12 | luderitz\n",
      "Processing Record 8 of Set 12 | woodstock\n",
      "Processing Record 9 of Set 12 | wanning\n",
      "Processing Record 10 of Set 12 | changqing\n",
      "Processing Record 11 of Set 12 | talara\n",
      "Processing Record 12 of Set 12 | shu\n",
      "Processing Record 13 of Set 12 | point pedro\n",
      "Processing Record 14 of Set 12 | raiganj\n",
      "Processing Record 15 of Set 12 | hami\n",
      "City not found. Skipping...\n",
      "Processing Record 16 of Set 12 | allanridge\n"
     ]
    },
    {
     "name": "stdout",
     "output_type": "stream",
     "text": [
      "City not found. Skipping...\n",
      "Processing Record 17 of Set 12 | sedalia\n",
      "Processing Record 18 of Set 12 | karratha\n",
      "Processing Record 19 of Set 12 | zhaozhou\n",
      "Processing Record 20 of Set 12 | dolores\n",
      "Processing Record 21 of Set 12 | republic\n",
      "Processing Record 22 of Set 12 | pombas\n",
      "Processing Record 23 of Set 12 | mahanoro\n",
      "Processing Record 24 of Set 12 | odweyne\n",
      "Processing Record 25 of Set 12 | kargasok\n",
      "Processing Record 26 of Set 12 | turangi\n",
      "City not found. Skipping...\n",
      "------------------------------Data Retrieval Complete------------------------------\n"
     ]
    }
   ],
   "source": [
    "# create lists for weather check (temperature)\n",
    "city_names = []\n",
    "countries = []\n",
    "lat = []\n",
    "lng = []\n",
    "temp = []\n",
    "temp_max = []\n",
    "humid = []\n",
    "clouds = []\n",
    "wind_sp = []\n",
    "\n",
    "\n",
    "# set initial count quantities for organization while printing output\n",
    "count_one = 0\n",
    "set_one = 1\n",
    "\n",
    "# begin loop for weather data\n",
    "for city in cities:\n",
    "    \n",
    "    try:\n",
    "        response = requests.get(query_url + city.replace(\" \",\"&\")).json()\n",
    "        countries.append(response['sys']['country'])\n",
    "        lat.append(response['coord']['lat'])\n",
    "        lng.append(response['coord']['lon'])\n",
    "        temp.append(response['main']['temp'])\n",
    "        temp_max.append(response['main']['temp_max'])\n",
    "        humid.append(response['main']['humidity'])\n",
    "        clouds.append(response['clouds']['all'])\n",
    "        wind_sp.append(response['wind']['speed'])\n",
    "        \n",
    "        if count_one > 48:\n",
    "            count_one = 1\n",
    "            set_one += 1\n",
    "            city_names.append(city)\n",
    "        else:\n",
    "            count_one += 1\n",
    "            city_names.append(city)\n",
    "        print(f\"Processing Record {count_one} of Set {set_one} | {city}\")\n",
    "    except Exception:\n",
    "        print(\"City not found. Skipping...\")\n",
    "print(\"------------------------------Data Retrieval Complete------------------------------\")\n",
    "\n"
   ]
  },
  {
   "cell_type": "markdown",
   "metadata": {},
   "source": [
    "### Convert Raw Data to DataFrame\n",
    "* Export the city data into a .csv.\n",
    "* Display the DataFrame"
   ]
  },
  {
   "cell_type": "code",
   "execution_count": 21,
   "metadata": {},
   "outputs": [],
   "source": [
    "# Creating list of dictionaries for pulled weather data\n",
    "weather_dict = {\n",
    "    \"City\": city_names,\n",
    "    \"Country\": countries,\n",
    "    \"Latitude\": lat,\n",
    "    \"Longitude\": lng,\n",
    "    \"Temp (°F)\": temp,\n",
    "    \"Max Temp (°F)\": temp_max,\n",
    "    \"Humidity (%)\": humid,\n",
    "    \"Cloudiness (%)\": clouds,\n",
    "    \"Wind Speed (mph)\": wind_sp}"
   ]
  },
  {
   "cell_type": "code",
   "execution_count": 22,
   "metadata": {
    "scrolled": true
   },
   "outputs": [
    {
     "data": {
      "text/html": [
       "<div>\n",
       "<style scoped>\n",
       "    .dataframe tbody tr th:only-of-type {\n",
       "        vertical-align: middle;\n",
       "    }\n",
       "\n",
       "    .dataframe tbody tr th {\n",
       "        vertical-align: top;\n",
       "    }\n",
       "\n",
       "    .dataframe thead th {\n",
       "        text-align: right;\n",
       "    }\n",
       "</style>\n",
       "<table border=\"1\" class=\"dataframe\">\n",
       "  <thead>\n",
       "    <tr style=\"text-align: right;\">\n",
       "      <th></th>\n",
       "      <th>City</th>\n",
       "      <th>Country</th>\n",
       "      <th>Latitude</th>\n",
       "      <th>Longitude</th>\n",
       "      <th>Temp (°F)</th>\n",
       "      <th>Max Temp (°F)</th>\n",
       "      <th>Humidity (%)</th>\n",
       "      <th>Cloudiness (%)</th>\n",
       "      <th>Wind Speed (mph)</th>\n",
       "    </tr>\n",
       "  </thead>\n",
       "  <tbody>\n",
       "    <tr>\n",
       "      <th>0</th>\n",
       "      <td>bredasdorp</td>\n",
       "      <td>ZA</td>\n",
       "      <td>-34.5322</td>\n",
       "      <td>20.0403</td>\n",
       "      <td>55.40</td>\n",
       "      <td>55.40</td>\n",
       "      <td>82</td>\n",
       "      <td>2</td>\n",
       "      <td>4.61</td>\n",
       "    </tr>\n",
       "    <tr>\n",
       "      <th>1</th>\n",
       "      <td>port lincoln</td>\n",
       "      <td>CD</td>\n",
       "      <td>-7.0349</td>\n",
       "      <td>29.7638</td>\n",
       "      <td>72.30</td>\n",
       "      <td>72.30</td>\n",
       "      <td>71</td>\n",
       "      <td>65</td>\n",
       "      <td>8.08</td>\n",
       "    </tr>\n",
       "    <tr>\n",
       "      <th>2</th>\n",
       "      <td>mataura</td>\n",
       "      <td>NZ</td>\n",
       "      <td>-46.1927</td>\n",
       "      <td>168.8643</td>\n",
       "      <td>49.30</td>\n",
       "      <td>49.30</td>\n",
       "      <td>78</td>\n",
       "      <td>97</td>\n",
       "      <td>6.71</td>\n",
       "    </tr>\n",
       "    <tr>\n",
       "      <th>3</th>\n",
       "      <td>akcakoca</td>\n",
       "      <td>TR</td>\n",
       "      <td>41.0866</td>\n",
       "      <td>31.1162</td>\n",
       "      <td>34.75</td>\n",
       "      <td>34.75</td>\n",
       "      <td>86</td>\n",
       "      <td>53</td>\n",
       "      <td>5.93</td>\n",
       "    </tr>\n",
       "    <tr>\n",
       "      <th>4</th>\n",
       "      <td>ponta do sol</td>\n",
       "      <td>PT</td>\n",
       "      <td>38.7333</td>\n",
       "      <td>-28.2667</td>\n",
       "      <td>58.98</td>\n",
       "      <td>58.98</td>\n",
       "      <td>98</td>\n",
       "      <td>100</td>\n",
       "      <td>28.74</td>\n",
       "    </tr>\n",
       "  </tbody>\n",
       "</table>\n",
       "</div>"
      ],
      "text/plain": [
       "           City Country  Latitude  Longitude  Temp (°F)  Max Temp (°F)  \\\n",
       "0    bredasdorp      ZA  -34.5322    20.0403      55.40          55.40   \n",
       "1  port lincoln      CD   -7.0349    29.7638      72.30          72.30   \n",
       "2       mataura      NZ  -46.1927   168.8643      49.30          49.30   \n",
       "3      akcakoca      TR   41.0866    31.1162      34.75          34.75   \n",
       "4  ponta do sol      PT   38.7333   -28.2667      58.98          58.98   \n",
       "\n",
       "   Humidity (%)  Cloudiness (%)  Wind Speed (mph)  \n",
       "0            82               2              4.61  \n",
       "1            71              65              8.08  \n",
       "2            78              97              6.71  \n",
       "3            86              53              5.93  \n",
       "4            98             100             28.74  "
      ]
     },
     "execution_count": 22,
     "metadata": {},
     "output_type": "execute_result"
    }
   ],
   "source": [
    "# Converting list into a Pandas DataFrame\n",
    "weather_df = pd.DataFrame(weather_dict)\n",
    "weather_df.head()"
   ]
  },
  {
   "cell_type": "code",
   "execution_count": 23,
   "metadata": {},
   "outputs": [
    {
     "data": {
      "text/plain": [
       "City                565\n",
       "Country             565\n",
       "Latitude            565\n",
       "Longitude           565\n",
       "Temp (°F)           565\n",
       "Max Temp (°F)       565\n",
       "Humidity (%)        565\n",
       "Cloudiness (%)      565\n",
       "Wind Speed (mph)    565\n",
       "dtype: int64"
      ]
     },
     "execution_count": 23,
     "metadata": {},
     "output_type": "execute_result"
    }
   ],
   "source": [
    "weather_df.count()"
   ]
  },
  {
   "cell_type": "code",
   "execution_count": 24,
   "metadata": {},
   "outputs": [],
   "source": [
    "# Output the weather dataframe to a csv file for later use/reference\n",
    "weather_df.to_csv(output_data_file)"
   ]
  },
  {
   "cell_type": "markdown",
   "metadata": {},
   "source": [
    "## Inspect the data and remove the cities where the humidity > 100%.\n",
    "----\n",
    "Skip this step if there are no cities that have humidity > 100%. "
   ]
  },
  {
   "cell_type": "code",
   "execution_count": 26,
   "metadata": {},
   "outputs": [
    {
     "data": {
      "text/plain": [
       "100"
      ]
     },
     "execution_count": 26,
     "metadata": {},
     "output_type": "execute_result"
    }
   ],
   "source": [
    "#Inspecting for a humidity value > 100\n",
    "weather_df[\"Humidity (%)\"].max()"
   ]
  },
  {
   "cell_type": "code",
   "execution_count": null,
   "metadata": {},
   "outputs": [],
   "source": [
    "# All humidity levels are <= 100 in this instance\n"
   ]
  },
  {
   "cell_type": "markdown",
   "metadata": {},
   "source": [
    "## Plotting the Data\n",
    "* Use proper labeling of the plots using plot titles (including date of analysis) and axes labels.\n",
    "* Save the plotted figures as .pngs."
   ]
  },
  {
   "cell_type": "markdown",
   "metadata": {},
   "source": [
    "## Latitude vs. Temperature Plot"
   ]
  },
  {
   "cell_type": "code",
   "execution_count": 97,
   "metadata": {
    "scrolled": true
   },
   "outputs": [
    {
     "data": {
      "image/png": "[encoded data removed]",
      "text/plain": [
       "<Figure size 432x288 with 1 Axes>"
      ]
     },
     "metadata": {
      "needs_background": "light"
     },
     "output_type": "display_data"
    }
   ],
   "source": [
    "plt.scatter(weather_df[\"Latitude\"], weather_df[\"Temp (°F)\"], marker=\"o\", facecolors=\"blue\",\n",
    "           edgecolors =\"black\")\n",
    "plt.title(\"Latitude vs. Temperature\")\n",
    "plt.xlabel(\"Latitude\")\n",
    "plt.ylabel(\"Temperature\")\n",
    "plt.savefig(\"../output_data/fig1.png\")\n",
    "plt.show()\n",
    "\n",
    "## DO WE SAVE THIS?"
   ]
  },
  {
   "cell_type": "markdown",
   "metadata": {},
   "source": [
    "## Latitude vs. Humidity Plot"
   ]
  },
  {
   "cell_type": "code",
   "execution_count": 98,
   "metadata": {},
   "outputs": [
    {
     "data": {
      "image/png": "[encoded data removed]",
      "text/plain": [
       "<Figure size 432x288 with 1 Axes>"
      ]
     },
     "metadata": {
      "needs_background": "light"
     },
     "output_type": "display_data"
    }
   ],
   "source": [
    "plt.scatter(weather_df[\"Latitude\"], weather_df[\"Humidity (%)\"], marker=\"o\", facecolors=\"blue\",\n",
    "           edgecolors =\"black\")\n",
    "plt.title(\"Latitude vs. Humidity\")\n",
    "plt.xlabel(\"Latitude\")\n",
    "plt.ylabel(\"Humidity\")\n",
    "plt.savefig(\"../output_data/fig2.png\")\n",
    "plt.show()"
   ]
  },
  {
   "cell_type": "markdown",
   "metadata": {},
   "source": [
    "## Latitude vs. Cloudiness Plot"
   ]
  },
  {
   "cell_type": "code",
   "execution_count": 99,
   "metadata": {},
   "outputs": [
    {
     "data": {
      "image/png": "[encoded data removed]",
      "text/plain": [
       "<Figure size 432x288 with 1 Axes>"
      ]
     },
     "metadata": {
      "needs_background": "light"
     },
     "output_type": "display_data"
    }
   ],
   "source": [
    "plt.scatter(weather_df[\"Latitude\"], weather_df[\"Cloudiness (%)\"], marker=\"o\", facecolors=\"blue\",\n",
    "           edgecolors =\"black\")\n",
    "plt.title(\"Latitude vs. Cloudiness\")\n",
    "plt.xlabel(\"Latitude\")\n",
    "plt.ylabel(\"Cloudiness\")\n",
    "plt.savefig(\"../output_data/fig3.png\")\n",
    "plt.show()"
   ]
  },
  {
   "cell_type": "markdown",
   "metadata": {},
   "source": [
    "## Latitude vs. Wind Speed Plot"
   ]
  },
  {
   "cell_type": "code",
   "execution_count": 100,
   "metadata": {},
   "outputs": [
    {
     "data": {
      "image/png": "[encoded data removed]",
      "text/plain": [
       "<Figure size 432x288 with 1 Axes>"
      ]
     },
     "metadata": {
      "needs_background": "light"
     },
     "output_type": "display_data"
    }
   ],
   "source": [
    "plt.scatter(weather_df[\"Latitude\"], weather_df[\"Wind Speed (mph)\"], marker=\"o\", facecolors=\"blue\",\n",
    "           edgecolors =\"black\")\n",
    "plt.title(\"Latitude vs. Wind Speed\")\n",
    "plt.xlabel(\"Latitude\")\n",
    "plt.ylabel(\"Wind Speed\")\n",
    "plt.savefig(\"../output_data/fig4.png\")\n",
    "plt.show()"
   ]
  },
  {
   "cell_type": "markdown",
   "metadata": {},
   "source": [
    "## Linear Regression"
   ]
  },
  {
   "cell_type": "code",
   "execution_count": null,
   "metadata": {},
   "outputs": [],
   "source": [
    "# Print out the r-squared value along with the plot.\n",
    "x_values = housing_data['RM']\n",
    "y_values = housing_data['MEDV']\n",
    "(slope, intercept, rvalue, pvalue, stderr) = linregress(x_values, y_values)\n",
    "regress_values = x_values * slope + intercept\n",
    "line_eq = \"y = \" + str(round(slope,2)) + \"x + \" + str(round(intercept,2))\n",
    "plt.scatter(x_values,y_values)\n",
    "plt.plot(x_values,regress_values,\"r-\")\n",
    "plt.annotate(line_eq,(6,10),fontsize=15,color=\"red\")\n",
    "plt.xlabel('Rooms in House')\n",
    "plt.ylabel('Median House Prices ($1000)')\n",
    "print(f\"The r-squared is: {rvalue**2}\")\n",
    "plt.show()"
   ]
  },
  {
   "cell_type": "markdown",
   "metadata": {},
   "source": [
    "####  Northern Hemisphere - Max Temp vs. Latitude Linear Regression"
   ]
  },
  {
   "cell_type": "code",
   "execution_count": 64,
   "metadata": {
    "scrolled": true
   },
   "outputs": [
    {
     "data": {
      "text/html": [
       "<div>\n",
       "<style scoped>\n",
       "    .dataframe tbody tr th:only-of-type {\n",
       "        vertical-align: middle;\n",
       "    }\n",
       "\n",
       "    .dataframe tbody tr th {\n",
       "        vertical-align: top;\n",
       "    }\n",
       "\n",
       "    .dataframe thead th {\n",
       "        text-align: right;\n",
       "    }\n",
       "</style>\n",
       "<table border=\"1\" class=\"dataframe\">\n",
       "  <thead>\n",
       "    <tr style=\"text-align: right;\">\n",
       "      <th></th>\n",
       "      <th>City</th>\n",
       "      <th>Country</th>\n",
       "      <th>Latitude</th>\n",
       "      <th>Longitude</th>\n",
       "      <th>Temp (°F)</th>\n",
       "      <th>Max Temp (°F)</th>\n",
       "      <th>Humidity (%)</th>\n",
       "      <th>Cloudiness (%)</th>\n",
       "      <th>Wind Speed (mph)</th>\n",
       "    </tr>\n",
       "  </thead>\n",
       "  <tbody>\n",
       "    <tr>\n",
       "      <th>3</th>\n",
       "      <td>akcakoca</td>\n",
       "      <td>TR</td>\n",
       "      <td>41.0866</td>\n",
       "      <td>31.1162</td>\n",
       "      <td>34.75</td>\n",
       "      <td>34.75</td>\n",
       "      <td>86</td>\n",
       "      <td>53</td>\n",
       "      <td>5.93</td>\n",
       "    </tr>\n",
       "    <tr>\n",
       "      <th>4</th>\n",
       "      <td>ponta do sol</td>\n",
       "      <td>PT</td>\n",
       "      <td>38.7333</td>\n",
       "      <td>-28.2667</td>\n",
       "      <td>58.98</td>\n",
       "      <td>58.98</td>\n",
       "      <td>98</td>\n",
       "      <td>100</td>\n",
       "      <td>28.74</td>\n",
       "    </tr>\n",
       "    <tr>\n",
       "      <th>6</th>\n",
       "      <td>narsaq</td>\n",
       "      <td>GL</td>\n",
       "      <td>60.9167</td>\n",
       "      <td>-46.0500</td>\n",
       "      <td>44.60</td>\n",
       "      <td>44.60</td>\n",
       "      <td>31</td>\n",
       "      <td>75</td>\n",
       "      <td>26.46</td>\n",
       "    </tr>\n",
       "    <tr>\n",
       "      <th>9</th>\n",
       "      <td>upernavik</td>\n",
       "      <td>GL</td>\n",
       "      <td>72.7868</td>\n",
       "      <td>-56.1549</td>\n",
       "      <td>-12.82</td>\n",
       "      <td>-12.82</td>\n",
       "      <td>86</td>\n",
       "      <td>27</td>\n",
       "      <td>11.45</td>\n",
       "    </tr>\n",
       "    <tr>\n",
       "      <th>10</th>\n",
       "      <td>kapaa</td>\n",
       "      <td>US</td>\n",
       "      <td>22.0752</td>\n",
       "      <td>-159.3190</td>\n",
       "      <td>74.52</td>\n",
       "      <td>75.20</td>\n",
       "      <td>73</td>\n",
       "      <td>90</td>\n",
       "      <td>17.27</td>\n",
       "    </tr>\n",
       "  </tbody>\n",
       "</table>\n",
       "</div>"
      ],
      "text/plain": [
       "            City Country  Latitude  Longitude  Temp (°F)  Max Temp (°F)  \\\n",
       "3       akcakoca      TR   41.0866    31.1162      34.75          34.75   \n",
       "4   ponta do sol      PT   38.7333   -28.2667      58.98          58.98   \n",
       "6         narsaq      GL   60.9167   -46.0500      44.60          44.60   \n",
       "9      upernavik      GL   72.7868   -56.1549     -12.82         -12.82   \n",
       "10         kapaa      US   22.0752  -159.3190      74.52          75.20   \n",
       "\n",
       "    Humidity (%)  Cloudiness (%)  Wind Speed (mph)  \n",
       "3             86              53              5.93  \n",
       "4             98             100             28.74  \n",
       "6             31              75             26.46  \n",
       "9             86              27             11.45  \n",
       "10            73              90             17.27  "
      ]
     },
     "execution_count": 64,
     "metadata": {},
     "output_type": "execute_result"
    }
   ],
   "source": [
    "#creating weather df for just northern hemisphere\n",
    "weather_nh = weather_df.loc[weather_df['Latitude'] > 0]\n",
    "weather_nh.head()"
   ]
  },
  {
   "cell_type": "code",
   "execution_count": 101,
   "metadata": {
    "scrolled": true
   },
   "outputs": [
    {
     "name": "stdout",
     "output_type": "stream",
     "text": [
      "The r-squared is: 0.6805515144135879\n"
     ]
    },
    {
     "data": {
      "image/png": "[encoded data removed]",
      "text/plain": [
       "<Figure size 432x288 with 1 Axes>"
      ]
     },
     "metadata": {
      "needs_background": "light"
     },
     "output_type": "display_data"
    }
   ],
   "source": [
    "# Print out the r-squared value along with the plot.\n",
    "x_values = weather_nh['Latitude']\n",
    "y_values = weather_nh['Max Temp (°F)']\n",
    "(slope, intercept, rvalue, pvalue, stderr) = linregress(x_values, y_values)\n",
    "regress_values = x_values * slope + intercept\n",
    "line_eq = \"y = \" + str(round(slope,2)) + \"x + \" + str(round(intercept,2))\n",
    "plt.scatter(x_values, y_values, marker=\"o\", facecolors=\"blue\",\n",
    "           edgecolors =\"black\")\n",
    "plt.plot(x_values,regress_values,\"r-\")\n",
    "plt.annotate(line_eq,(6,10),fontsize=15,color=\"red\")\n",
    "plt.title('Latitude vs Max Temp (°F)')\n",
    "plt.xlabel('Latitude')\n",
    "plt.ylabel('Max Temp (°F)')\n",
    "plt.xlim(0,80)\n",
    "print(f\"The r-squared is: {rvalue**2}\")\n",
    "plt.savefig(\"../output_data/fig5.png\")\n",
    "plt.show()"
   ]
  },
  {
   "cell_type": "markdown",
   "metadata": {},
   "source": [
    "####  Southern Hemisphere - Max Temp vs. Latitude Linear Regression"
   ]
  },
  {
   "cell_type": "code",
   "execution_count": 68,
   "metadata": {},
   "outputs": [
    {
     "data": {
      "text/html": [
       "<div>\n",
       "<style scoped>\n",
       "    .dataframe tbody tr th:only-of-type {\n",
       "        vertical-align: middle;\n",
       "    }\n",
       "\n",
       "    .dataframe tbody tr th {\n",
       "        vertical-align: top;\n",
       "    }\n",
       "\n",
       "    .dataframe thead th {\n",
       "        text-align: right;\n",
       "    }\n",
       "</style>\n",
       "<table border=\"1\" class=\"dataframe\">\n",
       "  <thead>\n",
       "    <tr style=\"text-align: right;\">\n",
       "      <th></th>\n",
       "      <th>City</th>\n",
       "      <th>Country</th>\n",
       "      <th>Latitude</th>\n",
       "      <th>Longitude</th>\n",
       "      <th>Temp (°F)</th>\n",
       "      <th>Max Temp (°F)</th>\n",
       "      <th>Humidity (%)</th>\n",
       "      <th>Cloudiness (%)</th>\n",
       "      <th>Wind Speed (mph)</th>\n",
       "    </tr>\n",
       "  </thead>\n",
       "  <tbody>\n",
       "    <tr>\n",
       "      <th>0</th>\n",
       "      <td>bredasdorp</td>\n",
       "      <td>ZA</td>\n",
       "      <td>-34.5322</td>\n",
       "      <td>20.0403</td>\n",
       "      <td>55.40</td>\n",
       "      <td>55.40</td>\n",
       "      <td>82</td>\n",
       "      <td>2</td>\n",
       "      <td>4.61</td>\n",
       "    </tr>\n",
       "    <tr>\n",
       "      <th>1</th>\n",
       "      <td>port lincoln</td>\n",
       "      <td>CD</td>\n",
       "      <td>-7.0349</td>\n",
       "      <td>29.7638</td>\n",
       "      <td>72.30</td>\n",
       "      <td>72.30</td>\n",
       "      <td>71</td>\n",
       "      <td>65</td>\n",
       "      <td>8.08</td>\n",
       "    </tr>\n",
       "    <tr>\n",
       "      <th>2</th>\n",
       "      <td>mataura</td>\n",
       "      <td>NZ</td>\n",
       "      <td>-46.1927</td>\n",
       "      <td>168.8643</td>\n",
       "      <td>49.30</td>\n",
       "      <td>49.30</td>\n",
       "      <td>78</td>\n",
       "      <td>97</td>\n",
       "      <td>6.71</td>\n",
       "    </tr>\n",
       "    <tr>\n",
       "      <th>5</th>\n",
       "      <td>avarua</td>\n",
       "      <td>CK</td>\n",
       "      <td>-21.2078</td>\n",
       "      <td>-159.7750</td>\n",
       "      <td>81.09</td>\n",
       "      <td>81.09</td>\n",
       "      <td>76</td>\n",
       "      <td>50</td>\n",
       "      <td>14.47</td>\n",
       "    </tr>\n",
       "    <tr>\n",
       "      <th>7</th>\n",
       "      <td>port elizabeth</td>\n",
       "      <td>CD</td>\n",
       "      <td>-7.0349</td>\n",
       "      <td>29.7638</td>\n",
       "      <td>72.30</td>\n",
       "      <td>72.30</td>\n",
       "      <td>71</td>\n",
       "      <td>65</td>\n",
       "      <td>8.08</td>\n",
       "    </tr>\n",
       "  </tbody>\n",
       "</table>\n",
       "</div>"
      ],
      "text/plain": [
       "             City Country  Latitude  Longitude  Temp (°F)  Max Temp (°F)  \\\n",
       "0      bredasdorp      ZA  -34.5322    20.0403      55.40          55.40   \n",
       "1    port lincoln      CD   -7.0349    29.7638      72.30          72.30   \n",
       "2         mataura      NZ  -46.1927   168.8643      49.30          49.30   \n",
       "5          avarua      CK  -21.2078  -159.7750      81.09          81.09   \n",
       "7  port elizabeth      CD   -7.0349    29.7638      72.30          72.30   \n",
       "\n",
       "   Humidity (%)  Cloudiness (%)  Wind Speed (mph)  \n",
       "0            82               2              4.61  \n",
       "1            71              65              8.08  \n",
       "2            78              97              6.71  \n",
       "5            76              50             14.47  \n",
       "7            71              65              8.08  "
      ]
     },
     "execution_count": 68,
     "metadata": {},
     "output_type": "execute_result"
    }
   ],
   "source": [
    "#creating weather df for just southern hemisphere\n",
    "weather_sh = weather_df.loc[weather_df['Latitude'] < 0]\n",
    "weather_sh.head()"
   ]
  },
  {
   "cell_type": "code",
   "execution_count": 102,
   "metadata": {},
   "outputs": [
    {
     "name": "stdout",
     "output_type": "stream",
     "text": [
      "The r-squared is: 0.33176771828912893\n"
     ]
    },
    {
     "data": {
      "image/png": "[encoded data removed]",
      "text/plain": [
       "<Figure size 432x288 with 1 Axes>"
      ]
     },
     "metadata": {
      "needs_background": "light"
     },
     "output_type": "display_data"
    }
   ],
   "source": [
    "# Print out the r-squared value along with the plot.\n",
    "x_values = weather_sh['Latitude']\n",
    "y_values = weather_sh['Max Temp (°F)']\n",
    "(slope, intercept, rvalue, pvalue, stderr) = linregress(x_values, y_values)\n",
    "regress_values = x_values * slope + intercept\n",
    "line_eq = \"y = \" + str(round(slope,2)) + \"x + \" + str(round(intercept,2))\n",
    "plt.scatter(x_values, y_values, marker=\"o\", facecolors=\"blue\",\n",
    "           edgecolors =\"black\")\n",
    "plt.plot(x_values,regress_values,\"r-\")\n",
    "plt.annotate(line_eq,(-50,50),fontsize=15,color=\"red\")\n",
    "plt.title('Latitude vs Max Temp (°F)')\n",
    "plt.xlabel('Latitude')\n",
    "plt.ylabel('Max Temp (°F)')\n",
    "plt.xlim(-60,0)\n",
    "print(f\"The r-squared is: {rvalue**2}\")\n",
    "plt.savefig(\"../output_data/fig6.png\")\n",
    "plt.show()"
   ]
  },
  {
   "cell_type": "markdown",
   "metadata": {},
   "source": [
    "####  Northern Hemisphere - Humidity (%) vs. Latitude Linear Regression"
   ]
  },
  {
   "cell_type": "code",
   "execution_count": 103,
   "metadata": {},
   "outputs": [
    {
     "name": "stdout",
     "output_type": "stream",
     "text": [
      "The r-squared is: 0.1125609423240074\n"
     ]
    },
    {
     "data": {
      "image/png": "[encoded data removed]",
      "text/plain": [
       "<Figure size 432x288 with 1 Axes>"
      ]
     },
     "metadata": {
      "needs_background": "light"
     },
     "output_type": "display_data"
    }
   ],
   "source": [
    "x_values = weather_nh['Latitude']\n",
    "y_values = weather_nh['Humidity (%)']\n",
    "(slope, intercept, rvalue, pvalue, stderr) = linregress(x_values, y_values)\n",
    "regress_values = x_values * slope + intercept\n",
    "line_eq = \"y = \" + str(round(slope,2)) + \"x + \" + str(round(intercept,2))\n",
    "plt.scatter(x_values, y_values, marker=\"o\", facecolors=\"blue\",\n",
    "           edgecolors =\"black\")\n",
    "plt.plot(x_values,regress_values,\"r-\")\n",
    "plt.annotate(line_eq,(6,10),fontsize=15,color=\"red\")\n",
    "plt.title('Latitude vs Humidity (%)')\n",
    "plt.xlabel('Latitude')\n",
    "plt.ylabel('Humidity (%)')\n",
    "plt.xlim(0,80)\n",
    "print(f\"The r-squared is: {rvalue**2}\")\n",
    "plt.savefig(\"../output_data/fig7.png\")\n",
    "plt.show()"
   ]
  },
  {
   "cell_type": "markdown",
   "metadata": {},
   "source": [
    "####  Southern Hemisphere - Humidity (%) vs. Latitude Linear Regression"
   ]
  },
  {
   "cell_type": "code",
   "execution_count": 104,
   "metadata": {},
   "outputs": [
    {
     "name": "stdout",
     "output_type": "stream",
     "text": [
      "The r-squared is: 0.07121162504386999\n"
     ]
    },
    {
     "data": {
      "image/png": "[encoded data removed]",
      "text/plain": [
       "<Figure size 432x288 with 1 Axes>"
      ]
     },
     "metadata": {
      "needs_background": "light"
     },
     "output_type": "display_data"
    }
   ],
   "source": [
    "# Print out the r-squared value along with the plot.\n",
    "x_values = weather_sh['Latitude']\n",
    "y_values = weather_sh['Humidity (%)']\n",
    "(slope, intercept, rvalue, pvalue, stderr) = linregress(x_values, y_values)\n",
    "regress_values = x_values * slope + intercept\n",
    "line_eq = \"y = \" + str(round(slope,2)) + \"x + \" + str(round(intercept,2))\n",
    "plt.scatter(x_values, y_values, marker=\"o\", facecolors=\"blue\",\n",
    "           edgecolors =\"black\")\n",
    "plt.plot(x_values,regress_values,\"r-\")\n",
    "plt.annotate(line_eq,(-50,50),fontsize=15,color=\"red\")\n",
    "plt.title('Latitude vs Humidity (%)')\n",
    "plt.xlabel('Latitude')\n",
    "plt.ylabel('Humidity (%)')\n",
    "plt.xlim(-60,0)\n",
    "print(f\"The r-squared is: {rvalue**2}\")\n",
    "plt.savefig(\"../output_data/fig8.png\")\n",
    "plt.show()"
   ]
  },
  {
   "cell_type": "markdown",
   "metadata": {},
   "source": [
    "####  Northern Hemisphere - Cloudiness (%) vs. Latitude Linear Regression"
   ]
  },
  {
   "cell_type": "code",
   "execution_count": 105,
   "metadata": {},
   "outputs": [
    {
     "name": "stdout",
     "output_type": "stream",
     "text": [
      "The r-squared is: 0.08174373328755095\n"
     ]
    },
    {
     "data": {
      "image/png": "[encoded data removed]",
      "text/plain": [
       "<Figure size 432x288 with 1 Axes>"
      ]
     },
     "metadata": {
      "needs_background": "light"
     },
     "output_type": "display_data"
    }
   ],
   "source": [
    "# Print out the r-squared value along with the plot.\n",
    "x_values = weather_nh['Latitude']\n",
    "y_values = weather_nh['Cloudiness (%)']\n",
    "(slope, intercept, rvalue, pvalue, stderr) = linregress(x_values, y_values)\n",
    "regress_values = x_values * slope + intercept\n",
    "line_eq = \"y = \" + str(round(slope,2)) + \"x + \" + str(round(intercept,2))\n",
    "plt.scatter(x_values, y_values, marker=\"o\", facecolors=\"blue\",\n",
    "           edgecolors =\"black\")\n",
    "plt.plot(x_values,regress_values,\"r-\")\n",
    "plt.annotate(line_eq,(6,30),fontsize=15,color=\"red\")\n",
    "plt.title('Latitude vs Cloudiness (%)')\n",
    "plt.xlabel('Latitude')\n",
    "plt.ylabel('Cloudiness (%)')\n",
    "plt.xlim(0,80)\n",
    "print(f\"The r-squared is: {rvalue**2}\")\n",
    "plt.savefig(\"../output_data/fig9.png\")\n",
    "plt.show()"
   ]
  },
  {
   "cell_type": "markdown",
   "metadata": {},
   "source": [
    "####  Southern Hemisphere - Cloudiness (%) vs. Latitude Linear Regression"
   ]
  },
  {
   "cell_type": "code",
   "execution_count": 106,
   "metadata": {},
   "outputs": [
    {
     "name": "stdout",
     "output_type": "stream",
     "text": [
      "The r-squared is: 0.03988096904993212\n"
     ]
    },
    {
     "data": {
      "image/png": "[encoded data removed]",
      "text/plain": [
       "<Figure size 432x288 with 1 Axes>"
      ]
     },
     "metadata": {
      "needs_background": "light"
     },
     "output_type": "display_data"
    }
   ],
   "source": [
    "# Print out the r-squared value along with the plot.\n",
    "x_values = weather_sh['Latitude']\n",
    "y_values = weather_sh['Cloudiness (%)']\n",
    "(slope, intercept, rvalue, pvalue, stderr) = linregress(x_values, y_values)\n",
    "regress_values = x_values * slope + intercept\n",
    "line_eq = \"y = \" + str(round(slope,2)) + \"x + \" + str(round(intercept,2))\n",
    "plt.scatter(x_values, y_values, marker=\"o\", facecolors=\"blue\",\n",
    "           edgecolors =\"black\")\n",
    "plt.plot(x_values,regress_values,\"r-\")\n",
    "plt.annotate(line_eq,(-50,30),fontsize=15,color=\"red\")\n",
    "plt.title('Latitude vs Cloudiness (%)')\n",
    "plt.xlabel('Latitude')\n",
    "plt.ylabel('Cloudiness (%)')\n",
    "plt.xlim(-60,0)\n",
    "print(f\"The r-squared is: {rvalue**2}\")\n",
    "plt.savefig(\"../output_data/fig10.png\")\n",
    "plt.show()"
   ]
  },
  {
   "cell_type": "markdown",
   "metadata": {},
   "source": [
    "####  Northern Hemisphere - Wind Speed (mph) vs. Latitude Linear Regression"
   ]
  },
  {
   "cell_type": "code",
   "execution_count": 107,
   "metadata": {},
   "outputs": [
    {
     "name": "stdout",
     "output_type": "stream",
     "text": [
      "The r-squared is: 0.007611019504008329\n"
     ]
    },
    {
     "data": {
      "image/png": "[encoded data removed]",
      "text/plain": [
       "<Figure size 432x288 with 1 Axes>"
      ]
     },
     "metadata": {
      "needs_background": "light"
     },
     "output_type": "display_data"
    }
   ],
   "source": [
    "# Print out the r-squared value along with the plot.\n",
    "x_values = weather_nh['Latitude']\n",
    "y_values = weather_nh['Wind Speed (mph)']\n",
    "(slope, intercept, rvalue, pvalue, stderr) = linregress(x_values, y_values)\n",
    "regress_values = x_values * slope + intercept\n",
    "line_eq = \"y = \" + str(round(slope,2)) + \"x + \" + str(round(intercept,2))\n",
    "plt.scatter(x_values, y_values, marker=\"o\", facecolors=\"blue\",\n",
    "           edgecolors =\"black\")\n",
    "plt.plot(x_values,regress_values,\"r-\")\n",
    "plt.annotate(line_eq,(6,30),fontsize=15,color=\"red\")\n",
    "plt.title('Latitude vs Wind Speed')\n",
    "plt.xlabel('Latitude')\n",
    "plt.ylabel('Wind Speed (mph)')\n",
    "plt.xlim(0,80)\n",
    "print(f\"The r-squared is: {rvalue**2}\")\n",
    "plt.savefig(\"../output_data/fig11.png\")\n",
    "plt.show()"
   ]
  },
  {
   "cell_type": "markdown",
   "metadata": {},
   "source": [
    "####  Southern Hemisphere - Wind Speed (mph) vs. Latitude Linear Regression"
   ]
  },
  {
   "cell_type": "code",
   "execution_count": 108,
   "metadata": {},
   "outputs": [
    {
     "name": "stdout",
     "output_type": "stream",
     "text": [
      "The r-squared is: 0.04506532899012228\n"
     ]
    },
    {
     "data": {
      "image/png": "[encoded data removed]",
      "text/plain": [
       "<Figure size 432x288 with 1 Axes>"
      ]
     },
     "metadata": {
      "needs_background": "light"
     },
     "output_type": "display_data"
    }
   ],
   "source": [
    "# Print out the r-squared value along with the plot.\n",
    "x_values = weather_sh['Latitude']\n",
    "y_values = weather_sh['Wind Speed (mph)']\n",
    "(slope, intercept, rvalue, pvalue, stderr) = linregress(x_values, y_values)\n",
    "regress_values = x_values * slope + intercept\n",
    "line_eq = \"y = \" + str(round(slope,2)) + \"x + \" + str(round(intercept,2))\n",
    "plt.scatter(x_values, y_values, marker=\"o\", facecolors=\"blue\",\n",
    "           edgecolors =\"black\")\n",
    "plt.plot(x_values,regress_values,\"r-\")\n",
    "plt.annotate(line_eq,(-50,20),fontsize=15,color=\"red\")\n",
    "plt.title('Latitude vs Wind Speed')\n",
    "plt.xlabel('Latitude')\n",
    "plt.ylabel('Wind Speed (mph)')\n",
    "plt.xlim(-60,0)\n",
    "print(f\"The r-squared is: {rvalue**2}\")\n",
    "plt.savefig(\"../output_data/fig12.png\")\n",
    "plt.show()"
   ]
  },
  {
   "cell_type": "code",
   "execution_count": null,
   "metadata": {},
   "outputs": [],
   "source": []
  }
 ],
 "metadata": {
  "anaconda-cloud": {},
  "kernel_info": {
   "name": "python3"
  },
  "kernelspec": {
   "display_name": "Python 3",
   "language": "python",
   "name": "python3"
  },
  "language_info": {
   "codemirror_mode": {
    "name": "ipython",
    "version": 3
   },
   "file_extension": ".py",
   "mimetype": "text/x-python",
   "name": "python",
   "nbconvert_exporter": "python",
   "pygments_lexer": "ipython3",
   "version": "3.8.5"
  },
  "latex_envs": {
   "LaTeX_envs_menu_present": true,
   "autoclose": false,
   "autocomplete": true,
   "bibliofile": "biblio.bib",
   "cite_by": "apalike",
   "current_citInitial": 1,
   "eqLabelWithNumbers": true,
   "eqNumInitial": 1,
   "hotkeys": {
    "equation": "Ctrl-E",
    "itemize": "Ctrl-I"
   },
   "labels_anchors": false,
   "latex_user_defs": false,
   "report_style_numbering": false,
   "user_envs_cfg": false
  },
  "nteract": {
   "version": "0.12.3"
  }
 },
 "nbformat": 4,
 "nbformat_minor": 2
}
